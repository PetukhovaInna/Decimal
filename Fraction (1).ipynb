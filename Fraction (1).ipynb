{
 "cells": [
  {
   "cell_type": "markdown",
   "metadata": {},
   "source": [
    "# Fraction\n",
    "В языке программирования Python для работы с рациональными числами предлагается класс Fraction. В классе соответствующим образом представлены числитель m и знаменатель n."
   ]
  },
  {
   "cell_type": "markdown",
   "metadata": {},
   "source": [
    "Объект класса Fraction можно создать одним из двух способов.\n",
    "1. С помощью конструктора, который содержит целочисленные значения числителя и знаменателя:"
   ]
  },
  {
   "cell_type": "code",
   "execution_count": 1,
   "metadata": {},
   "outputs": [
    {
     "name": "stdout",
     "output_type": "stream",
     "text": [
      "5/6\n",
      "2/3\n"
     ]
    }
   ],
   "source": [
    "from fractions import Fraction\n",
    "a = Fraction(5, 6) \n",
    "print (a)\n",
    "b = Fraction(8, 12)\n",
    "print(b)"
   ]
  },
  {
   "cell_type": "markdown",
   "metadata": {},
   "source": [
    "2. С помощью конструктора, который получает строку с вещественным значением:"
   ]
  },
  {
   "cell_type": "code",
   "execution_count": 2,
   "metadata": {},
   "outputs": [
    {
     "name": "stdout",
     "output_type": "stream",
     "text": [
      "133/100 3719/1000 -3/2 89/10\n"
     ]
    }
   ],
   "source": [
    "from fractions import Fraction\n",
    "a = Fraction('1.33') \n",
    "b = Fraction('3.719') \n",
    "c = Fraction('-1.5') \n",
    "d = Fraction('3.7') + Fraction('5.2')\n",
    "print (a,b,c,d)"
   ]
  },
  {
   "cell_type": "markdown",
   "metadata": {},
   "source": [
    "Над объектами класса Fraction можно выполнять следующие арифметические операции:\n",
    "сложение (+);\n",
    "вычитание (–);\n",
    "умножение (*);\n",
    "деление (/)\n",
    "взятие остатка от деления (%)."
   ]
  },
  {
   "cell_type": "code",
   "execution_count": 8,
   "metadata": {},
   "outputs": [
    {
     "name": "stdout",
     "output_type": "stream",
     "text": [
      "9/2 5/2 10/3 4/3 4/3\n"
     ]
    }
   ],
   "source": [
    "from fractions import Fraction\n",
    "\n",
    "a = Fraction(6, 2) + Fraction(3, 2)\n",
    "b = a - Fraction(4, 2)\n",
    "c = b * Fraction(4, 3)\n",
    "d = c / b \n",
    "e = d % a \n",
    "print (a,b,c,d,e)"
   ]
  },
  {
   "cell_type": "markdown",
   "metadata": {},
   "source": [
    "Операция возведения в степень числа типа Fraction возвращает вещественный результат"
   ]
  },
  {
   "cell_type": "code",
   "execution_count": 9,
   "metadata": {},
   "outputs": [
    {
     "name": "stdout",
     "output_type": "stream",
     "text": [
      "0.7071067811865476\n"
     ]
    }
   ],
   "source": [
    "from fractions import Fraction\n",
    "f = Fraction(1,2)**Fraction(1,2)\n",
    "print(f)"
   ]
  },
  {
   "cell_type": "markdown",
   "metadata": {},
   "source": [
    "Метод as_integer_ratio() возвращает числитель и знаменатель, который соответствует заданному числу."
   ]
  },
  {
   "cell_type": "code",
   "execution_count": 12,
   "metadata": {},
   "outputs": [
    {
     "name": "stdout",
     "output_type": "stream",
     "text": [
      "(7, 2) (3293257227514675, 281474976710656) 17/2 8.5\n"
     ]
    }
   ],
   "source": [
    "# метод as_integer_ratio\n",
    "from fractions import Fraction\n",
    "\n",
    "# преобразование в дробное число\n",
    "a = (3.5).as_integer_ratio() # a = (7, 2)\n",
    "b = (11.7).as_integer_ratio() # b = (3293257227514675, 281474976710656)\n",
    "\n",
    "# преобразование в тип Fraction\n",
    "d = 8.5\n",
    "c = Fraction(*d.as_integer_ratio()) # c =   17/2\n",
    "print(a,b,c,d)"
   ]
  },
  {
   "cell_type": "markdown",
   "metadata": {},
   "source": [
    "Метод from_float() класса Fraction позволяет получить числитель и знаменатель вещественного числа также как и метод as_integer_ratio()."
   ]
  },
  {
   "cell_type": "code",
   "execution_count": 13,
   "metadata": {},
   "outputs": [
    {
     "name": "stdout",
     "output_type": "stream",
     "text": [
      "9/4 3.8 4278419646001971/1125899906842624 -8.75 -35/4\n"
     ]
    }
   ],
   "source": [
    "# метод from_float класса Fraction\n",
    "from fractions import Fraction\n",
    "\n",
    "a = Fraction.from_float(2.25) # a = 9/4\n",
    "\n",
    "b = 3.8 # тип float\n",
    "c = Fraction.from_float(b) # c = 4278419646001971/1125899906842624\n",
    "\n",
    "d = -8.75\n",
    "e = Fraction.from_float(d) # e = -35/4\n",
    "print(a,b,c,d,e)"
   ]
  },
  {
   "cell_type": "markdown",
   "metadata": {},
   "source": [
    "Метод float() может получать объекты типа Fraction в качестве аргументов. Метод возвращает число типа float."
   ]
  },
  {
   "cell_type": "code",
   "execution_count": 14,
   "metadata": {},
   "outputs": [
    {
     "name": "stdout",
     "output_type": "stream",
     "text": [
      "11/4 2.75 1.1666666666666667\n"
     ]
    }
   ],
   "source": [
    "# метод float() класса Fraction\n",
    "from fractions import Fraction\n",
    "\n",
    "# аргумент - переменная вещественного типа\n",
    "x = Fraction(11, 4)\n",
    "y = float(x) # y = 2.75\n",
    "\n",
    "# аргумент - число\n",
    "z = float(Fraction(7,6)) # z =   1.1666666666666667\n",
    "print(x,y,z)"
   ]
  },
  {
   "cell_type": "markdown",
   "metadata": {},
   "source": [
    "# Задание \n",
    "Перевести 2/5 в вещественное число и 7,5 в тип Fraction ."
   ]
  }
 ],
 "metadata": {
  "kernelspec": {
   "display_name": "Python 3",
   "language": "python",
   "name": "python3"
  },
  "language_info": {
   "codemirror_mode": {
    "name": "ipython",
    "version": 3
   },
   "file_extension": ".py",
   "mimetype": "text/x-python",
   "name": "python",
   "nbconvert_exporter": "python",
   "pygments_lexer": "ipython3",
   "version": "3.8.3"
  }
 },
 "nbformat": 4,
 "nbformat_minor": 4
}
