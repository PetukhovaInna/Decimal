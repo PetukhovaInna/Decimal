{
 "cells": [
  {
   "cell_type": "markdown",
   "metadata": {},
   "source": [
    "# Decimal\n",
    "Модуль decimal позволяет устранить недостатки, которые иногда возникают при работе с встроенными числами типа float."
   ]
  },
  {
   "cell_type": "code",
   "execution_count": 3,
   "metadata": {},
   "outputs": [
    {
     "name": "stdout",
     "output_type": "stream",
     "text": [
      "0.30000000000000004\n"
     ]
    }
   ],
   "source": [
    "number = 0.1 + 0.1 + 0.1\n",
    "print(number)  "
   ]
  },
  {
   "cell_type": "markdown",
   "metadata": {},
   "source": [
    "Ключевым компонентом для работы с числами в этом модуле является класс Decimal. Для его применения нам надо создать его объект с помощью конструктора. В конструктор передается строковое значение, которое представляет число:"
   ]
  },
  {
   "cell_type": "code",
   "execution_count": 2,
   "metadata": {},
   "outputs": [
    {
     "name": "stdout",
     "output_type": "stream",
     "text": [
      "0.3\n"
     ]
    }
   ],
   "source": [
    "from decimal import Decimal\n",
    "number = Decimal(\"0.1\")\n",
    "number = number + number + number\n",
    "print(number) "
   ]
  },
  {
   "cell_type": "markdown",
   "metadata": {},
   "source": [
    "В операциях с Decimal можно использовать целые числа:"
   ]
  },
  {
   "cell_type": "code",
   "execution_count": 5,
   "metadata": {},
   "outputs": [
    {
     "name": "stdout",
     "output_type": "stream",
     "text": [
      "2.1\n"
     ]
    }
   ],
   "source": [
    "from decimal import Decimal\n",
    "number = Decimal(\"0.1\")\n",
    "number = number + 2\n",
    "print(number) "
   ]
  },
  {
   "cell_type": "markdown",
   "metadata": {},
   "source": [
    "Однако нельзя смешивать в операциях дробные числа float и Decimal:"
   ]
  },
  {
   "cell_type": "code",
   "execution_count": 6,
   "metadata": {},
   "outputs": [
    {
     "ename": "TypeError",
     "evalue": "unsupported operand type(s) for +: 'decimal.Decimal' and 'float'",
     "output_type": "error",
     "traceback": [
      "\u001b[1;31m---------------------------------------------------------------------------\u001b[0m",
      "\u001b[1;31mTypeError\u001b[0m                                 Traceback (most recent call last)",
      "\u001b[1;32m<ipython-input-6-ff91bd22c0e1>\u001b[0m in \u001b[0;36m<module>\u001b[1;34m\u001b[0m\n\u001b[0;32m      1\u001b[0m \u001b[1;32mfrom\u001b[0m \u001b[0mdecimal\u001b[0m \u001b[1;32mimport\u001b[0m \u001b[0mDecimal\u001b[0m\u001b[1;33m\u001b[0m\u001b[1;33m\u001b[0m\u001b[0m\n\u001b[0;32m      2\u001b[0m \u001b[0mnumber\u001b[0m \u001b[1;33m=\u001b[0m \u001b[0mDecimal\u001b[0m\u001b[1;33m(\u001b[0m\u001b[1;34m\"0.1\"\u001b[0m\u001b[1;33m)\u001b[0m\u001b[1;33m\u001b[0m\u001b[1;33m\u001b[0m\u001b[0m\n\u001b[1;32m----> 3\u001b[1;33m \u001b[0mnumber\u001b[0m \u001b[1;33m=\u001b[0m \u001b[0mnumber\u001b[0m \u001b[1;33m+\u001b[0m \u001b[1;36m0.1\u001b[0m\u001b[1;33m\u001b[0m\u001b[1;33m\u001b[0m\u001b[0m\n\u001b[0m\u001b[0;32m      4\u001b[0m \u001b[0mprint\u001b[0m\u001b[1;33m(\u001b[0m\u001b[0mnumber\u001b[0m\u001b[1;33m)\u001b[0m\u001b[1;33m\u001b[0m\u001b[1;33m\u001b[0m\u001b[0m\n",
      "\u001b[1;31mTypeError\u001b[0m: unsupported operand type(s) for +: 'decimal.Decimal' and 'float'"
     ]
    }
   ],
   "source": [
    "from decimal import Decimal\n",
    "number = Decimal(\"0.1\")\n",
    "number = number + 0.1\n",
    "print(number)"
   ]
  },
  {
   "cell_type": "markdown",
   "metadata": {},
   "source": [
    "С помощью дополнительных знаков мы можем определить, сколько будет символов в дробной части числа:"
   ]
  },
  {
   "cell_type": "code",
   "execution_count": 7,
   "metadata": {},
   "outputs": [
    {
     "name": "stdout",
     "output_type": "stream",
     "text": [
      "0.30\n"
     ]
    }
   ],
   "source": [
    "from decimal import Decimal\n",
    "number = Decimal(\"0.10\")\n",
    "number = 3 * number\n",
    "print(number) "
   ]
  },
  {
   "cell_type": "markdown",
   "metadata": {},
   "source": [
    "Строка \"0.10\" определяет два знака в дробной части, даже если последние символы будут представлять ноль. Соответственно \"0.100\" представляет три знака в дробной части."
   ]
  },
  {
   "cell_type": "markdown",
   "metadata": {},
   "source": [
    "# Округление чисел\n",
    "Объекты Decimal имеют метод quantize(), который позволяет округлять числа. В этот метод в качестве первого аргумента передается также объект Decimal, который указывает формат округления числа:"
   ]
  },
  {
   "cell_type": "code",
   "execution_count": 8,
   "metadata": {},
   "outputs": [
    {
     "name": "stdout",
     "output_type": "stream",
     "text": [
      "0.44\n",
      "0.56\n",
      "1.00\n"
     ]
    }
   ],
   "source": [
    "from decimal import Decimal\n",
    "number = Decimal(\"0.444\")\n",
    "number = number.quantize(Decimal(\"1.00\"))\n",
    "print(number)\n",
    " \n",
    "number = Decimal(\"0.555678\")\n",
    "print(number.quantize(Decimal(\"1.00\")))\n",
    " \n",
    "number = Decimal(\"0.999\")\n",
    "print(number.quantize(Decimal(\"1.00\")))"
   ]
  },
  {
   "cell_type": "markdown",
   "metadata": {},
   "source": [
    "По умолчанию округление описывается константой ROUND_HALF_EVEN, при котором число округляется в большую сторону, если оно нечетное, а предыдущее перед ним больше 4. Например:"
   ]
  },
  {
   "cell_type": "code",
   "execution_count": 9,
   "metadata": {},
   "outputs": [
    {
     "name": "stdout",
     "output_type": "stream",
     "text": [
      "10.02\n",
      "10.04\n"
     ]
    }
   ],
   "source": [
    "from decimal import Decimal, ROUND_HALF_EVEN\n",
    "number = Decimal(\"10.025\")\n",
    "print(number.quantize(Decimal(\"1.00\"), ROUND_HALF_EVEN))\n",
    " \n",
    "number = Decimal(\"10.035\")\n",
    "print(number.quantize(Decimal(\"1.00\"), ROUND_HALF_EVEN))"
   ]
  },
  {
   "cell_type": "markdown",
   "metadata": {},
   "source": [
    "Данное поведение при округлении, возможно, не всем покажется желательным, и в этом случае его можно переопределить, использовав одну из следующих констант:\n",
    "ROUND_HALF_UP: округляет число в сторону повышения, если после него идет число 5 или выше\n",
    "ROUND_HALF_DOWN: округляет число в сторону повышения, если после него идет число больше 5"
   ]
  },
  {
   "cell_type": "code",
   "execution_count": 11,
   "metadata": {},
   "outputs": [
    {
     "name": "stdout",
     "output_type": "stream",
     "text": [
      "10.03\n",
      "10.02\n"
     ]
    }
   ],
   "source": [
    "from decimal import Decimal, ROUND_HALF_DOWN\n",
    "number = Decimal(\"10.026\")\n",
    "print(number.quantize(Decimal(\"1.00\"), ROUND_HALF_DOWN)) \n",
    " \n",
    "number = Decimal(\"10.025\")\n",
    "print(number.quantize(Decimal(\"1.00\"), ROUND_HALF_DOWN))"
   ]
  },
  {
   "cell_type": "markdown",
   "metadata": {},
   "source": [
    "ROUND_05UP: округляет только 0 до единицы, если после него идет 5"
   ]
  },
  {
   "cell_type": "code",
   "execution_count": 12,
   "metadata": {},
   "outputs": [
    {
     "name": "stdout",
     "output_type": "stream",
     "text": [
      "10.01\n",
      "10.02\n"
     ]
    }
   ],
   "source": [
    "from decimal import Decimal, ROUND_05UP\n",
    "number = Decimal(\"10.005\")\n",
    "print(number.quantize(Decimal(\"1.00\"), ROUND_05UP))\n",
    " \n",
    "number = Decimal(\"10.025\")\n",
    "print(number.quantize(Decimal(\"1.00\"), ROUND_05UP)) "
   ]
  },
  {
   "cell_type": "markdown",
   "metadata": {},
   "source": [
    "ROUND_CEILING: округляет число в большую сторону вне зависимости от того, какое число идет после него"
   ]
  },
  {
   "cell_type": "code",
   "execution_count": 13,
   "metadata": {},
   "outputs": [
    {
     "name": "stdout",
     "output_type": "stream",
     "text": [
      "10.03\n",
      "10.03\n"
     ]
    }
   ],
   "source": [
    "from decimal import Decimal, ROUND_CEILING\n",
    "number = Decimal(\"10.021\")\n",
    "print(number.quantize(Decimal(\"1.00\"), ROUND_CEILING))\n",
    " \n",
    "number = Decimal(\"10.025\")\n",
    "print(number.quantize(Decimal(\"1.00\"), ROUND_CEILING))"
   ]
  },
  {
   "cell_type": "markdown",
   "metadata": {},
   "source": [
    "ROUND_FLOOR: не округляет число вне зависимости от того, какое число идет после него"
   ]
  },
  {
   "cell_type": "code",
   "execution_count": 14,
   "metadata": {},
   "outputs": [
    {
     "name": "stdout",
     "output_type": "stream",
     "text": [
      "10.02\n",
      "10.02\n"
     ]
    }
   ],
   "source": [
    "from decimal import Decimal, ROUND_FLOOR\n",
    "number = Decimal(\"10.021\")\n",
    "print(number.quantize(Decimal(\"1.00\"), ROUND_FLOOR))\n",
    " \n",
    "number = Decimal(\"10.025\")\n",
    "print(number.quantize(Decimal(\"1.00\"), ROUND_FLOOR))"
   ]
  },
  {
   "cell_type": "markdown",
   "metadata": {},
   "source": [
    "# Задание\n",
    "Как должен выглядить код, если надо округлить число до двух знаков после запятой в сторону повышения, если после него идет число 5 или выше."
   ]
  }
 ],
 "metadata": {
  "kernelspec": {
   "display_name": "Python 3",
   "language": "python",
   "name": "python3"
  },
  "language_info": {
   "codemirror_mode": {
    "name": "ipython",
    "version": 3
   },
   "file_extension": ".py",
   "mimetype": "text/x-python",
   "name": "python",
   "nbconvert_exporter": "python",
   "pygments_lexer": "ipython3",
   "version": "3.8.3"
  }
 },
 "nbformat": 4,
 "nbformat_minor": 4
}
